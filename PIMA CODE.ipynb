{
 "cells": [
  {
   "cell_type": "code",
   "execution_count": 1,
   "id": "54e268ad",
   "metadata": {},
   "outputs": [],
   "source": [
    "import numpy as np \n",
    "import pandas as pd \n",
    "from sklearn.svm import SVC\n",
    "from sklearn.model_selection import GridSearchCV\n",
    "from sklearn.model_selection import train_test_split\n",
    "from sklearn.linear_model import LogisticRegression\n",
    "from sklearn.model_selection import train_test_split\n",
    "from sklearn.ensemble import RandomForestClassifier\n",
    "from sklearn import tree\n",
    "from sklearn.metrics import mean_absolute_error\n",
    "from sklearn import preprocessing\n",
    "from sklearn.preprocessing import StandardScaler\n",
    "import os\n",
    "for dirname, _, filenames in os.walk('/input'):\n",
    "    for filename in filenames:\n",
    "        print(os.path.join(dirname, filename))"
   ]
  },
  {
   "cell_type": "code",
   "execution_count": 2,
   "id": "408df683",
   "metadata": {},
   "outputs": [
    {
     "data": {
      "text/html": [
       "<div>\n",
       "<style scoped>\n",
       "    .dataframe tbody tr th:only-of-type {\n",
       "        vertical-align: middle;\n",
       "    }\n",
       "\n",
       "    .dataframe tbody tr th {\n",
       "        vertical-align: top;\n",
       "    }\n",
       "\n",
       "    .dataframe thead th {\n",
       "        text-align: right;\n",
       "    }\n",
       "</style>\n",
       "<table border=\"1\" class=\"dataframe\">\n",
       "  <thead>\n",
       "    <tr style=\"text-align: right;\">\n",
       "      <th></th>\n",
       "      <th>Pregnancies</th>\n",
       "      <th>Glucose</th>\n",
       "      <th>BloodPressure</th>\n",
       "      <th>SkinThickness</th>\n",
       "      <th>Insulin</th>\n",
       "      <th>BMI</th>\n",
       "      <th>DiabetesPedigreeFunction</th>\n",
       "      <th>Age</th>\n",
       "      <th>Outcome</th>\n",
       "    </tr>\n",
       "  </thead>\n",
       "  <tbody>\n",
       "    <tr>\n",
       "      <th>0</th>\n",
       "      <td>6</td>\n",
       "      <td>148</td>\n",
       "      <td>72</td>\n",
       "      <td>35</td>\n",
       "      <td>0</td>\n",
       "      <td>33.6</td>\n",
       "      <td>0.627</td>\n",
       "      <td>50</td>\n",
       "      <td>1</td>\n",
       "    </tr>\n",
       "    <tr>\n",
       "      <th>1</th>\n",
       "      <td>1</td>\n",
       "      <td>85</td>\n",
       "      <td>66</td>\n",
       "      <td>29</td>\n",
       "      <td>0</td>\n",
       "      <td>26.6</td>\n",
       "      <td>0.351</td>\n",
       "      <td>31</td>\n",
       "      <td>0</td>\n",
       "    </tr>\n",
       "    <tr>\n",
       "      <th>2</th>\n",
       "      <td>8</td>\n",
       "      <td>183</td>\n",
       "      <td>64</td>\n",
       "      <td>0</td>\n",
       "      <td>0</td>\n",
       "      <td>23.3</td>\n",
       "      <td>0.672</td>\n",
       "      <td>32</td>\n",
       "      <td>1</td>\n",
       "    </tr>\n",
       "    <tr>\n",
       "      <th>3</th>\n",
       "      <td>1</td>\n",
       "      <td>89</td>\n",
       "      <td>66</td>\n",
       "      <td>23</td>\n",
       "      <td>94</td>\n",
       "      <td>28.1</td>\n",
       "      <td>0.167</td>\n",
       "      <td>21</td>\n",
       "      <td>0</td>\n",
       "    </tr>\n",
       "    <tr>\n",
       "      <th>4</th>\n",
       "      <td>0</td>\n",
       "      <td>137</td>\n",
       "      <td>40</td>\n",
       "      <td>35</td>\n",
       "      <td>168</td>\n",
       "      <td>43.1</td>\n",
       "      <td>2.288</td>\n",
       "      <td>33</td>\n",
       "      <td>1</td>\n",
       "    </tr>\n",
       "  </tbody>\n",
       "</table>\n",
       "</div>"
      ],
      "text/plain": [
       "   Pregnancies  Glucose  BloodPressure  SkinThickness  Insulin   BMI  \\\n",
       "0            6      148             72             35        0  33.6   \n",
       "1            1       85             66             29        0  26.6   \n",
       "2            8      183             64              0        0  23.3   \n",
       "3            1       89             66             23       94  28.1   \n",
       "4            0      137             40             35      168  43.1   \n",
       "\n",
       "   DiabetesPedigreeFunction  Age  Outcome  \n",
       "0                     0.627   50        1  \n",
       "1                     0.351   31        0  \n",
       "2                     0.672   32        1  \n",
       "3                     0.167   21        0  \n",
       "4                     2.288   33        1  "
      ]
     },
     "execution_count": 2,
     "metadata": {},
     "output_type": "execute_result"
    }
   ],
   "source": [
    "df = pd.read_csv('diabetes.csv')\n",
    "df.head()"
   ]
  },
  {
   "cell_type": "code",
   "execution_count": 3,
   "id": "dd7b105b",
   "metadata": {},
   "outputs": [
    {
     "name": "stdout",
     "output_type": "stream",
     "text": [
      "<class 'pandas.core.frame.DataFrame'>\n",
      "RangeIndex: 768 entries, 0 to 767\n",
      "Data columns (total 9 columns):\n",
      " #   Column                    Non-Null Count  Dtype  \n",
      "---  ------                    --------------  -----  \n",
      " 0   Pregnancies               768 non-null    int64  \n",
      " 1   Glucose                   768 non-null    int64  \n",
      " 2   BloodPressure             768 non-null    int64  \n",
      " 3   SkinThickness             768 non-null    int64  \n",
      " 4   Insulin                   768 non-null    int64  \n",
      " 5   BMI                       768 non-null    float64\n",
      " 6   DiabetesPedigreeFunction  768 non-null    float64\n",
      " 7   Age                       768 non-null    int64  \n",
      " 8   Outcome                   768 non-null    int64  \n",
      "dtypes: float64(2), int64(7)\n",
      "memory usage: 54.1 KB\n"
     ]
    }
   ],
   "source": [
    "df.info()"
   ]
  },
  {
   "cell_type": "code",
   "execution_count": 4,
   "id": "249d6077",
   "metadata": {},
   "outputs": [
    {
     "data": {
      "text/html": [
       "<div>\n",
       "<style scoped>\n",
       "    .dataframe tbody tr th:only-of-type {\n",
       "        vertical-align: middle;\n",
       "    }\n",
       "\n",
       "    .dataframe tbody tr th {\n",
       "        vertical-align: top;\n",
       "    }\n",
       "\n",
       "    .dataframe thead th {\n",
       "        text-align: right;\n",
       "    }\n",
       "</style>\n",
       "<table border=\"1\" class=\"dataframe\">\n",
       "  <thead>\n",
       "    <tr style=\"text-align: right;\">\n",
       "      <th></th>\n",
       "      <th>Pregnancies</th>\n",
       "      <th>Glucose</th>\n",
       "      <th>BloodPressure</th>\n",
       "      <th>SkinThickness</th>\n",
       "      <th>Insulin</th>\n",
       "      <th>BMI</th>\n",
       "      <th>DiabetesPedigreeFunction</th>\n",
       "      <th>Age</th>\n",
       "      <th>Outcome</th>\n",
       "    </tr>\n",
       "  </thead>\n",
       "  <tbody>\n",
       "    <tr>\n",
       "      <th>count</th>\n",
       "      <td>768.000000</td>\n",
       "      <td>768.000000</td>\n",
       "      <td>768.000000</td>\n",
       "      <td>768.000000</td>\n",
       "      <td>768.000000</td>\n",
       "      <td>768.000000</td>\n",
       "      <td>768.000000</td>\n",
       "      <td>768.000000</td>\n",
       "      <td>768.000000</td>\n",
       "    </tr>\n",
       "    <tr>\n",
       "      <th>mean</th>\n",
       "      <td>3.845052</td>\n",
       "      <td>120.894531</td>\n",
       "      <td>69.105469</td>\n",
       "      <td>20.536458</td>\n",
       "      <td>79.799479</td>\n",
       "      <td>31.992578</td>\n",
       "      <td>0.471876</td>\n",
       "      <td>33.240885</td>\n",
       "      <td>0.348958</td>\n",
       "    </tr>\n",
       "    <tr>\n",
       "      <th>std</th>\n",
       "      <td>3.369578</td>\n",
       "      <td>31.972618</td>\n",
       "      <td>19.355807</td>\n",
       "      <td>15.952218</td>\n",
       "      <td>115.244002</td>\n",
       "      <td>7.884160</td>\n",
       "      <td>0.331329</td>\n",
       "      <td>11.760232</td>\n",
       "      <td>0.476951</td>\n",
       "    </tr>\n",
       "    <tr>\n",
       "      <th>min</th>\n",
       "      <td>0.000000</td>\n",
       "      <td>0.000000</td>\n",
       "      <td>0.000000</td>\n",
       "      <td>0.000000</td>\n",
       "      <td>0.000000</td>\n",
       "      <td>0.000000</td>\n",
       "      <td>0.078000</td>\n",
       "      <td>21.000000</td>\n",
       "      <td>0.000000</td>\n",
       "    </tr>\n",
       "    <tr>\n",
       "      <th>25%</th>\n",
       "      <td>1.000000</td>\n",
       "      <td>99.000000</td>\n",
       "      <td>62.000000</td>\n",
       "      <td>0.000000</td>\n",
       "      <td>0.000000</td>\n",
       "      <td>27.300000</td>\n",
       "      <td>0.243750</td>\n",
       "      <td>24.000000</td>\n",
       "      <td>0.000000</td>\n",
       "    </tr>\n",
       "    <tr>\n",
       "      <th>50%</th>\n",
       "      <td>3.000000</td>\n",
       "      <td>117.000000</td>\n",
       "      <td>72.000000</td>\n",
       "      <td>23.000000</td>\n",
       "      <td>30.500000</td>\n",
       "      <td>32.000000</td>\n",
       "      <td>0.372500</td>\n",
       "      <td>29.000000</td>\n",
       "      <td>0.000000</td>\n",
       "    </tr>\n",
       "    <tr>\n",
       "      <th>75%</th>\n",
       "      <td>6.000000</td>\n",
       "      <td>140.250000</td>\n",
       "      <td>80.000000</td>\n",
       "      <td>32.000000</td>\n",
       "      <td>127.250000</td>\n",
       "      <td>36.600000</td>\n",
       "      <td>0.626250</td>\n",
       "      <td>41.000000</td>\n",
       "      <td>1.000000</td>\n",
       "    </tr>\n",
       "    <tr>\n",
       "      <th>max</th>\n",
       "      <td>17.000000</td>\n",
       "      <td>199.000000</td>\n",
       "      <td>122.000000</td>\n",
       "      <td>99.000000</td>\n",
       "      <td>846.000000</td>\n",
       "      <td>67.100000</td>\n",
       "      <td>2.420000</td>\n",
       "      <td>81.000000</td>\n",
       "      <td>1.000000</td>\n",
       "    </tr>\n",
       "  </tbody>\n",
       "</table>\n",
       "</div>"
      ],
      "text/plain": [
       "       Pregnancies     Glucose  BloodPressure  SkinThickness     Insulin  \\\n",
       "count   768.000000  768.000000     768.000000     768.000000  768.000000   \n",
       "mean      3.845052  120.894531      69.105469      20.536458   79.799479   \n",
       "std       3.369578   31.972618      19.355807      15.952218  115.244002   \n",
       "min       0.000000    0.000000       0.000000       0.000000    0.000000   \n",
       "25%       1.000000   99.000000      62.000000       0.000000    0.000000   \n",
       "50%       3.000000  117.000000      72.000000      23.000000   30.500000   \n",
       "75%       6.000000  140.250000      80.000000      32.000000  127.250000   \n",
       "max      17.000000  199.000000     122.000000      99.000000  846.000000   \n",
       "\n",
       "              BMI  DiabetesPedigreeFunction         Age     Outcome  \n",
       "count  768.000000                768.000000  768.000000  768.000000  \n",
       "mean    31.992578                  0.471876   33.240885    0.348958  \n",
       "std      7.884160                  0.331329   11.760232    0.476951  \n",
       "min      0.000000                  0.078000   21.000000    0.000000  \n",
       "25%     27.300000                  0.243750   24.000000    0.000000  \n",
       "50%     32.000000                  0.372500   29.000000    0.000000  \n",
       "75%     36.600000                  0.626250   41.000000    1.000000  \n",
       "max     67.100000                  2.420000   81.000000    1.000000  "
      ]
     },
     "execution_count": 4,
     "metadata": {},
     "output_type": "execute_result"
    }
   ],
   "source": [
    "df.describe()"
   ]
  },
  {
   "cell_type": "code",
   "execution_count": 5,
   "id": "e20fc50a",
   "metadata": {},
   "outputs": [
    {
     "data": {
      "text/plain": [
       "array([[<AxesSubplot:title={'center':'Pregnancies'}>,\n",
       "        <AxesSubplot:title={'center':'Glucose'}>,\n",
       "        <AxesSubplot:title={'center':'BloodPressure'}>],\n",
       "       [<AxesSubplot:title={'center':'SkinThickness'}>,\n",
       "        <AxesSubplot:title={'center':'Insulin'}>,\n",
       "        <AxesSubplot:title={'center':'BMI'}>],\n",
       "       [<AxesSubplot:title={'center':'DiabetesPedigreeFunction'}>,\n",
       "        <AxesSubplot:title={'center':'Age'}>,\n",
       "        <AxesSubplot:title={'center':'Outcome'}>]], dtype=object)"
      ]
     },
     "execution_count": 5,
     "metadata": {},
     "output_type": "execute_result"
    },
    {
     "data": {
      "image/png": "[encoded data removed]",
      "text/plain": [
       "<Figure size 1440x1440 with 9 Axes>"
      ]
     },
     "metadata": {
      "needs_background": "light"
     },
     "output_type": "display_data"
    }
   ],
   "source": [
    "def show_hist(df):\n",
    "    return df.hist(figsize=(20,20))\n",
    "show_hist(df)"
   ]
  },
  {
   "cell_type": "code",
   "execution_count": 6,
   "id": "589984b6",
   "metadata": {},
   "outputs": [],
   "source": [
    "X_full = pd.read_csv('diabetes.csv')\n",
    "y = X_full.Outcome\n",
    "features = [\"Pregnancies\",\"Glucose\",\"BloodPressure\",\"SkinThickness\",\"Insulin\",\"BMI\",\"DiabetesPedigreeFunction\",\"Age\"]\n",
    "X=X_full[features].copy()"
   ]
  },
  {
   "cell_type": "code",
   "execution_count": 7,
   "id": "bf956a14",
   "metadata": {},
   "outputs": [],
   "source": [
    "x_temp,x_test,y_temp,y_test = train_test_split(X, y, train_size = 0.8, test_size=0.2,random_state=0)\n",
    "x_train,x_valid,y_train,y_valid = train_test_split(x_temp, y_temp, train_size = 0.75, test_size=0.25,random_state=0)\n"
   ]
  },
  {
   "cell_type": "code",
   "execution_count": 8,
   "id": "9289f788",
   "metadata": {},
   "outputs": [],
   "source": [
    "def confusion_matrix(pred,y):\n",
    "    #true positive, false positive, actual positive, true negative, false negative, actual negative\n",
    "    TP,FP,AP,TN,FN,AN=0,0,0,0,0,0\n",
    "    pred=list(pred)\n",
    "    y=list(y)\n",
    "    \n",
    "    for i in range(len(pred)):\n",
    "        if y[i]==1:\n",
    "            AP+=1\n",
    "            if pred[i] == 1:\n",
    "                TP+=1\n",
    "            elif pred[i] == 0: \n",
    "                FN+=1\n",
    "        elif y[i]==0:\n",
    "            AN+=1\n",
    "            if pred[i] == 1:\n",
    "                FP+=1\n",
    "            elif pred[i] == 0: \n",
    "                TN+=1\n",
    "    \n",
    " #Recall rate = (true positive value) / (actual positive value)\n",
    "    recall_rate = TP/AP\n",
    "    #Specificity rate = (true negative value) / (actual negative value)\n",
    "    specificity_rate = TN/AN\n",
    "    #Accuracy rate = (true positive value + true negative value) / (total number of samples)\n",
    "    accuracy_rate = (TP+TN)/len(y)\n",
    "    #Misclassification (error) rate = (false positive value + false negative value) / (total number of samples)\n",
    "    misclassification_rate = (FP+FN)/len(y)\n",
    "    #Precision is the ratio of correctly predicted positive observations to the total predicted positive observations. \n",
    "    precision = TP/(TP+FP)\n",
    "    #F1 score is to find the harmonic mean of recall and precision. F1 Score = 2*(Recall * Precision) / (Recall + Precision)\n",
    "    f1_score = 2*(recall_rate*precision) / (recall_rate+precision)\n",
    "    \n",
    "    print(\"recall_rate is {}, specificity_rate is {}, accuracy_rate is {}, misclassification_rate is {}, f1_score is {}\".format(round(recall_rate,2),round(specificity_rate,2),round(accuracy_rate,2),round(misclassification_rate,2), round(f1_score,2)))\n",
    "    return TP,FP,TN,FN,AP,AN,recall_rate,specificity_rate,accuracy_rate,misclassification_rate,f1_score\n",
    "\n",
    "# Define a unified function to calculate the errors\n",
    "def score_dataset(x_train, y_train, x_valid, y_valid, model):\n",
    "    # Good practice usage scaling techniques:\n",
    "        # 1.Fit the scaler using available training data.\n",
    "        # 2.Apply the scale to training data.\n",
    "        # 3.Apply the scale to data going forward.\n",
    "    scaler = StandardScaler()\n",
    "    scaled_x_train = scaler.fit_transform(x_train)\n",
    "    model.fit(scaled_x_train, y_train.values.ravel())\n",
    "    pred = model.predict(scaler.fit_transform(x_valid))\n",
    "    return confusion_matrix(pred,y_valid)"
   ]
  },
  {
   "cell_type": "code",
   "execution_count": 9,
   "id": "33d1e2a7",
   "metadata": {},
   "outputs": [],
   "source": [
    "# A group of models to compare\n",
    "model1=LogisticRegression(max_iter=1000)\n",
    "model2=RandomForestClassifier(n_estimators=63, random_state=0)\n",
    "model3=tree.DecisionTreeClassifier(max_depth = 5, random_state=0)\n",
    "model4 = SVC(random_state=42, C=1000, gamma=0.001)\n",
    "model_group = [model1,model2, model3, model4]"
   ]
  },
  {
   "cell_type": "code",
   "execution_count": 10,
   "id": "f5cb30a2",
   "metadata": {},
   "outputs": [
    {
     "name": "stdout",
     "output_type": "stream",
     "text": [
      "recall_rate is 0.53, specificity_rate is 0.87, accuracy_rate is 0.74, misclassification_rate is 0.26, f1_score is 0.6\n"
     ]
    },
    {
     "data": {
      "text/plain": [
       "(30,\n",
       " 13,\n",
       " 84,\n",
       " 27,\n",
       " 57,\n",
       " 97,\n",
       " 0.5263157894736842,\n",
       " 0.865979381443299,\n",
       " 0.7402597402597403,\n",
       " 0.2597402597402597,\n",
       " 0.6)"
      ]
     },
     "execution_count": 10,
     "metadata": {},
     "output_type": "execute_result"
    }
   ],
   "source": [
    "score_dataset(x_train, y_train, x_valid, y_valid, model1)\n",
    "\n",
    "# Result:\n",
    "# recall_rate is 0.53, specificity_rate is 0.87, accuracy_rate is 0.74, misclassification_rate is 0.26, f1_score is 0.6\n",
    "# Original performance without cleaning the data"
   ]
  },
  {
   "cell_type": "code",
   "execution_count": 11,
   "id": "ac87a225",
   "metadata": {},
   "outputs": [
    {
     "name": "stdout",
     "output_type": "stream",
     "text": [
      "recall_rate is 0.23, specificity_rate is 0.92, accuracy_rate is 0.66, misclassification_rate is 0.34, f1_score is 0.33\n",
      "(13, 8, 89, 44, 57, 97, 0.22807017543859648, 0.9175257731958762, 0.6623376623376623, 0.33766233766233766, 0.3333333333333333)\n"
     ]
    }
   ],
   "source": [
    "# From Hist observation, following features contains non-helpful zero data: Glucose, BloodPressure, SkinThickness, Insulin, BMI, Age\n",
    "features_with_zero = [\"Glucose\",\"BloodPressure\",\"SkinThickness\",\"Insulin\",\"BMI\",\"Age\"]\n",
    "\n",
    "# Try 1st way of cleaning the zero data,\n",
    "# Drop the zero data\n",
    "dropped_x_train = x_train.drop(features_with_zero, axis=1)\n",
    "dropped_x_valid = x_valid.drop(features_with_zero, axis=1)\n",
    "#printing the score dataset for dropping the zeros\n",
    "print(score_dataset(dropped_x_train, y_train, dropped_x_valid, y_valid, model1))\n",
    "\n",
    "# Result:\n",
    "# recall_rate is 0.23, specificity_rate is 0.92, accuracy_rate is 0.66, misclassification_rate is 0.34, f1_score is 0.33\n",
    "# (13, 8, 89, 44, 57, 97, 0.22807017543859648, 0.9175257731958762, 0.6623376623376623, 0.33766233766233766)\n",
    "# Drop the zero data actually makes the pr"
   ]
  },
  {
   "cell_type": "code",
   "execution_count": 12,
   "id": "b0d36a07",
   "metadata": {},
   "outputs": [
    {
     "name": "stdout",
     "output_type": "stream",
     "text": [
      "recall_rate is 0.53, specificity_rate is 0.86, accuracy_rate is 0.73, misclassification_rate is 0.27, f1_score is 0.59\n",
      "(30, 14, 83, 27, 57, 97, 0.5263157894736842, 0.8556701030927835, 0.7337662337662337, 0.2662337662337662, 0.594059405940594)\n"
     ]
    }
   ],
   "source": [
    "# Try 2nd way of cleaning the zero data,\n",
    "# SKLearn model replace the zero data with actual values\n",
    "\n",
    "replaced_x_train = x_train.copy(deep=True)\n",
    "replaced_x_valid = x_valid.copy(deep=True)\n",
    "\n",
    "replaced_x_train[features_with_zero] = x_train[features_with_zero].replace(0,np.NaN)\n",
    "replaced_x_valid[features_with_zero] = x_valid[features_with_zero].replace(0,np.NaN)\n",
    "\n",
    "from sklearn.impute import SimpleImputer\n",
    "my_imputer = SimpleImputer()\n",
    "imputed_x_train = pd.DataFrame(my_imputer.fit_transform(replaced_x_train))\n",
    "imputed_x_valid = pd.DataFrame(my_imputer.fit_transform(replaced_x_valid))\n",
    "\n",
    "imputed_x_train.columns = x_train.columns\n",
    "imputed_x_valid.columns = x_valid.columns\n",
    "\n",
    "print(score_dataset(imputed_x_train, y_train, imputed_x_valid, y_valid, model1))\n"
   ]
  },
  {
   "cell_type": "code",
   "execution_count": 13,
   "id": "c6d58669",
   "metadata": {},
   "outputs": [
    {
     "name": "stdout",
     "output_type": "stream",
     "text": [
      "recall_rate is 0.53, specificity_rate is 0.87, accuracy_rate is 0.74, misclassification_rate is 0.26, f1_score is 0.6\n",
      "(30, 13, 84, 27, 57, 97, 0.5263157894736842, 0.865979381443299, 0.7402597402597403, 0.2597402597402597, 0.6)\n"
     ]
    }
   ],
   "source": [
    "# Try 3rd way of cleaning the zero data,\n",
    "# Manually replace the zero data with actual values \n",
    "\n",
    "replaced_x_train = x_train.copy(deep=True)\n",
    "replaced_x_valid = x_valid.copy(deep=True)\n",
    "\n",
    "def manual_replace(x):\n",
    "    x[\"Glucose\"].fillna(x[\"Glucose\"].mean(), inplace = True)\n",
    "    x['BloodPressure'].fillna(x['BloodPressure'].mean(), inplace = True)\n",
    "    x['SkinThickness'].fillna(x['SkinThickness'].median(), inplace = True)\n",
    "    x['Insulin'].fillna(x['Insulin'].median(), inplace = True)\n",
    "    x['BMI'].fillna(x['BMI'].median(), inplace = True)\n",
    "    return x\n",
    "\n",
    "replaced_x_train = manual_replace(replaced_x_train)\n",
    "replaced_x_valid = manual_replace(replaced_x_valid)\n",
    "\n",
    "print(score_dataset(replaced_x_train, y_train, replaced_x_valid, y_valid, model1))"
   ]
  },
  {
   "cell_type": "code",
   "execution_count": 14,
   "id": "e817cdcd",
   "metadata": {},
   "outputs": [
    {
     "data": {
      "image/png": "[encoded data removed]",
      "text/plain": [
       "<Figure size 432x288 with 1 Axes>"
      ]
     },
     "metadata": {
      "needs_background": "light"
     },
     "output_type": "display_data"
    }
   ],
   "source": [
    "# Try Support Vector Machines\n",
    "from sklearn.decomposition import PCA\n",
    "import matplotlib.pyplot as plt\n",
    "#     scaler = StandardScaler()\n",
    "#     scaled_x_train = scaler.fit_transform(x_train)\n",
    "#     model.fit(scaled_x_train, y_train.values.ravel())\n",
    "\n",
    "scaler = StandardScaler()\n",
    "scaled_x_train = scaler.fit_transform(x_train)\n",
    "pca = PCA()\n",
    "pca_x_train = pca.fit_transform(scaled_x_train)\n",
    "\n",
    "per_var = np.round(pca.explained_variance_ratio_*100, decimals=1)\n",
    "labels = [str(x) for x in range(1,len(per_var)+1)]\n",
    "\n",
    "plt.bar(x=range(1,len(per_var)+1),height=per_var)\n",
    "plt.tick_params(\n",
    "    axis='x',\n",
    "    which='both',\n",
    "    bottom=False,\n",
    "    top=False,\n",
    "    labelbottom=False)\n",
    "plt.ylabel('Percentage of Expllained Variance')\n",
    "plt.xlabel('Principle Components')\n",
    "plt.title('Scree Plot')\n",
    "plt.show()"
   ]
  },
  {
   "cell_type": "code",
   "execution_count": 15,
   "id": "7f30f98f",
   "metadata": {},
   "outputs": [
    {
     "name": "stdout",
     "output_type": "stream",
     "text": [
      "{'C': 1000, 'gamma': 0.001, 'kernel': 'rbf'}\n"
     ]
    }
   ],
   "source": [
    "train_pc1_coords = pca_x_train[:,0]\n",
    "train_pc2_coords = pca_x_train[:,1]\n",
    "\n",
    "pca_train_scaled = preprocessing.scale(np.column_stack((train_pc1_coords, train_pc2_coords)))\n",
    "\n",
    "param_grid = [\n",
    "    {'C':[1,10,100,1000],\n",
    "     'gamma':['scale',1,0.1, 0.01, 0.001, 0.0001],\n",
    "     'kernel':['rbf']\n",
    "    },\n",
    "]\n",
    "\n",
    "optimal_params = GridSearchCV(\n",
    "    SVC(),\n",
    "    param_grid,\n",
    "    cv=5,\n",
    "    scoring='accuracy',\n",
    "    verbose=0\n",
    ")\n",
    "\n",
    "optimal_params.fit(pca_train_scaled, y_train)\n",
    "print(optimal_params.best_params_)"
   ]
  },
  {
   "cell_type": "code",
   "execution_count": 16,
   "id": "562ac17e",
   "metadata": {},
   "outputs": [
    {
     "name": "stdout",
     "output_type": "stream",
     "text": [
      "recall_rate is 0.53, specificity_rate is 0.92, accuracy_rate is 0.77, misclassification_rate is 0.23, f1_score is 0.63\n"
     ]
    },
    {
     "data": {
      "text/plain": [
       "(30,\n",
       " 8,\n",
       " 89,\n",
       " 27,\n",
       " 57,\n",
       " 97,\n",
       " 0.5263157894736842,\n",
       " 0.9175257731958762,\n",
       " 0.7727272727272727,\n",
       " 0.22727272727272727,\n",
       " 0.631578947368421)"
      ]
     },
     "execution_count": 16,
     "metadata": {},
     "output_type": "execute_result"
    }
   ],
   "source": [
    "clf_svm = SVC(random_state=42, C=1000, gamma=0.001)\n",
    "score_dataset(x_train, y_train, x_valid, y_valid, clf_svm)"
   ]
  },
  {
   "cell_type": "code",
   "execution_count": 17,
   "id": "0feeaa1b",
   "metadata": {},
   "outputs": [
    {
     "name": "stdout",
     "output_type": "stream",
     "text": [
      "recall_rate is 0.58, specificity_rate is 0.9, accuracy_rate is 0.78, misclassification_rate is 0.22, f1_score is 0.66\n",
      "recall_rate is 0.61, specificity_rate is 0.9, accuracy_rate is 0.79, misclassification_rate is 0.21, f1_score is 0.69\n",
      "recall_rate is 0.6, specificity_rate is 0.91, accuracy_rate is 0.79, misclassification_rate is 0.21, f1_score is 0.68\n",
      "recall_rate is 0.63, specificity_rate is 0.9, accuracy_rate is 0.8, misclassification_rate is 0.2, f1_score is 0.7\n",
      "recall_rate is 0.61, specificity_rate is 0.91, accuracy_rate is 0.8, misclassification_rate is 0.2, f1_score is 0.69\n",
      "recall_rate is 0.61, specificity_rate is 0.89, accuracy_rate is 0.79, misclassification_rate is 0.21, f1_score is 0.68\n",
      "recall_rate is 0.6, specificity_rate is 0.9, accuracy_rate is 0.79, misclassification_rate is 0.21, f1_score is 0.67\n"
     ]
    },
    {
     "data": {
      "image/png": "[encoded data removed]",
      "text/plain": [
       "<Figure size 432x288 with 1 Axes>"
      ]
     },
     "metadata": {
      "needs_background": "light"
     },
     "output_type": "display_data"
    }
   ],
   "source": [
    "#decide the estimator for the random forest treee\n",
    "group_estimators = list(range(60,67,1))\n",
    "results = {}\n",
    "\n",
    "for estimator in group_estimators:\n",
    "    model2=RandomForestClassifier(n_estimators=estimator, random_state=0)\n",
    "    f1_score = score_dataset(x_train, y_train, x_valid, y_valid, model2)[10]\n",
    "    results[estimator] = f1_score\n",
    "\n",
    "%matplotlib inline\n",
    "plt.plot(list(results.keys()), list(results.values()))\n",
    "plt.show()\n",
    "# optimized RandomForestClassifier n_estimators 63"
   ]
  },
  {
   "cell_type": "code",
   "execution_count": 18,
   "id": "f85c26ac",
   "metadata": {},
   "outputs": [
    {
     "name": "stdout",
     "output_type": "stream",
     "text": [
      "recall_rate is 0.53, specificity_rate is 0.89, accuracy_rate is 0.75, misclassification_rate is 0.25, f1_score is 0.61\n",
      "recall_rate is 0.53, specificity_rate is 0.88, accuracy_rate is 0.75, misclassification_rate is 0.25, f1_score is 0.61\n",
      "recall_rate is 0.56, specificity_rate is 0.86, accuracy_rate is 0.75, misclassification_rate is 0.25, f1_score is 0.62\n",
      "recall_rate is 0.49, specificity_rate is 0.82, accuracy_rate is 0.7, misclassification_rate is 0.3, f1_score is 0.55\n",
      "recall_rate is 0.54, specificity_rate is 0.8, accuracy_rate is 0.71, misclassification_rate is 0.29, f1_score is 0.58\n",
      "recall_rate is 0.53, specificity_rate is 0.82, accuracy_rate is 0.71, misclassification_rate is 0.29, f1_score is 0.58\n",
      "recall_rate is 0.63, specificity_rate is 0.7, accuracy_rate is 0.68, misclassification_rate is 0.32, f1_score is 0.59\n",
      "recall_rate is 0.6, specificity_rate is 0.75, accuracy_rate is 0.69, misclassification_rate is 0.31, f1_score is 0.59\n",
      "recall_rate is 0.61, specificity_rate is 0.82, accuracy_rate is 0.75, misclassification_rate is 0.25, f1_score is 0.64\n",
      "recall_rate is 0.67, specificity_rate is 0.73, accuracy_rate is 0.71, misclassification_rate is 0.29, f1_score is 0.63\n",
      "recall_rate is 0.65, specificity_rate is 0.76, accuracy_rate is 0.72, misclassification_rate is 0.28, f1_score is 0.63\n",
      "recall_rate is 0.65, specificity_rate is 0.76, accuracy_rate is 0.72, misclassification_rate is 0.28, f1_score is 0.63\n",
      "recall_rate is 0.65, specificity_rate is 0.76, accuracy_rate is 0.72, misclassification_rate is 0.28, f1_score is 0.63\n",
      "recall_rate is 0.65, specificity_rate is 0.76, accuracy_rate is 0.72, misclassification_rate is 0.28, f1_score is 0.63\n",
      "recall_rate is 0.65, specificity_rate is 0.76, accuracy_rate is 0.72, misclassification_rate is 0.28, f1_score is 0.63\n",
      "recall_rate is 0.65, specificity_rate is 0.76, accuracy_rate is 0.72, misclassification_rate is 0.28, f1_score is 0.63\n",
      "recall_rate is 0.65, specificity_rate is 0.76, accuracy_rate is 0.72, misclassification_rate is 0.28, f1_score is 0.63\n",
      "recall_rate is 0.65, specificity_rate is 0.76, accuracy_rate is 0.72, misclassification_rate is 0.28, f1_score is 0.63\n"
     ]
    },
    {
     "data": {
      "image/png": "[encoded data removed]",
      "text/plain": [
       "<Figure size 432x288 with 1 Axes>"
      ]
     },
     "metadata": {
      "needs_background": "light"
     },
     "output_type": "display_data"
    }
   ],
   "source": [
    "leaf_dep_list = [x for x in range(20) if x >1]\n",
    "\n",
    "results ={}\n",
    "for leaf_dep in leaf_dep_list:\n",
    "  model3=tree.DecisionTreeClassifier(max_depth = leaf_dep, random_state=0)\n",
    "  f1_score = score_dataset(x_train, y_train,x_valid, y_valid, model3)[10]\n",
    "  results[leaf_dep]=f1_score\n",
    "\n",
    "%matplotlib inline\n",
    "plt.plot(list(results.keys()), list(results.values()))\n",
    "plt.show()\n",
    "# optimal max_depth=5"
   ]
  },
  {
   "cell_type": "code",
   "execution_count": 19,
   "id": "ab060809",
   "metadata": {},
   "outputs": [
    {
     "name": "stdout",
     "output_type": "stream",
     "text": [
      "LogisticRegression(max_iter=1000)\n",
      "recall_rate is 0.53, specificity_rate is 0.87, accuracy_rate is 0.74, misclassification_rate is 0.26, f1_score is 0.6\n",
      "(30, 13, 84, 27, 57, 97, 0.5263157894736842, 0.865979381443299, 0.7402597402597403, 0.2597402597402597, 0.6)\n",
      "RandomForestClassifier(n_estimators=63, random_state=0)\n",
      "recall_rate is 0.63, specificity_rate is 0.9, accuracy_rate is 0.8, misclassification_rate is 0.2, f1_score is 0.7\n",
      "(36, 10, 87, 21, 57, 97, 0.631578947368421, 0.8969072164948454, 0.7987012987012987, 0.2012987012987013, 0.6990291262135923)\n",
      "DecisionTreeClassifier(max_depth=5, random_state=0)\n",
      "recall_rate is 0.49, specificity_rate is 0.82, accuracy_rate is 0.7, misclassification_rate is 0.3, f1_score is 0.55\n",
      "(28, 17, 80, 29, 57, 97, 0.49122807017543857, 0.8247422680412371, 0.7012987012987013, 0.2987012987012987, 0.5490196078431373)\n",
      "SVC(C=1000, gamma=0.001, random_state=42)\n",
      "recall_rate is 0.53, specificity_rate is 0.92, accuracy_rate is 0.77, misclassification_rate is 0.23, f1_score is 0.63\n",
      "(30, 8, 89, 27, 57, 97, 0.5263157894736842, 0.9175257731958762, 0.7727272727272727, 0.22727272727272727, 0.631578947368421)\n"
     ]
    }
   ],
   "source": [
    "for i in model_group:\n",
    "    print(i)\n",
    "    print(score_dataset(x_train, y_train, x_valid, y_valid, i))"
   ]
  },
  {
   "cell_type": "code",
   "execution_count": 20,
   "id": "6ed363c3",
   "metadata": {},
   "outputs": [],
   "source": [
    "final_model = RandomForestClassifier(n_estimators=63, random_state=0)\n",
    "final_model.fit(x_temp, y_temp)\n",
    "preds_test=final_model.predict(x_test)\n",
    "\n",
    "# Save predictions in format used for competition scoring\n",
    "output = pd.DataFrame({'Id': x_test.index,\n",
    "                       'Outcome': preds_test})\n",
    "output.to_csv('submission.csv', index=False)"
   ]
  },
  {
   "cell_type": "code",
   "execution_count": null,
   "id": "e3c89ef6",
   "metadata": {},
   "outputs": [],
   "source": []
  }
 ],
 "metadata": {
  "kernelspec": {
   "display_name": "Python 3 (ipykernel)",
   "language": "python",
   "name": "python3"
  },
  "language_info": {
   "codemirror_mode": {
    "name": "ipython",
    "version": 3
   },
   "file_extension": ".py",
   "mimetype": "text/x-python",
   "name": "python",
   "nbconvert_exporter": "python",
   "pygments_lexer": "ipython3",
   "version": "3.9.7"
  }
 },
 "nbformat": 4,
 "nbformat_minor": 5
}
